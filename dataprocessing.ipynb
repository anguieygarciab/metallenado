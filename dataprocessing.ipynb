{
 "cells": [
  {
   "cell_type": "code",
   "execution_count": 0,
   "metadata": {
    "application/vnd.databricks.v1+cell": {
     "cellMetadata": {
      "byteLimit": 2048000,
      "rowLimit": 10000
     },
     "inputWidgets": {},
     "nuid": "8caf7966-0131-47b6-afa7-91fa2b9a03a3",
     "showTitle": false,
     "title": ""
    }
   },
   "outputs": [],
   "source": [
    "import pandas as pd"
   ]
  },
  {
   "cell_type": "code",
   "execution_count": 0,
   "metadata": {
    "application/vnd.databricks.v1+cell": {
     "cellMetadata": {
      "byteLimit": 2048000,
      "rowLimit": 10000
     },
     "inputWidgets": {},
     "nuid": "a6e709f4-c2fb-45a1-8c99-c4f880fee0f0",
     "showTitle": false,
     "title": ""
    },
    "vscode": {
     "languageId": "plaintext"
    }
   },
   "outputs": [],
   "source": [
    "from pyspark.sql import SparkSession\n",
    "\n",
    "spark = SparkSession.builder.appName(\"Leer Parquet\").getOrCreate()\n",
    "base_path = 'abfss://bronze@storedatalakedwh.dfs.core.windows.net/teradata/cobertura.parquet'\n",
    "df_spark = spark.read.parquet(base_path)"
   ]
  },
  {
   "cell_type": "code",
   "execution_count": 0,
   "metadata": {
    "application/vnd.databricks.v1+cell": {
     "cellMetadata": {
      "byteLimit": 2048000,
      "rowLimit": 10000
     },
     "inputWidgets": {},
     "nuid": "4253ef24-6367-4a8c-9007-720a01e86ac2",
     "showTitle": false,
     "title": ""
    }
   },
   "outputs": [],
   "source": [
    "df_est1 = df_spark.filter(df_spark.ESTRATO_CATASTRAL=='1').orderBy(\"Fecha\")"
   ]
  },
  {
   "cell_type": "code",
   "execution_count": 0,
   "metadata": {
    "application/vnd.databricks.v1+cell": {
     "cellMetadata": {
      "byteLimit": 2048000,
      "rowLimit": 10000
     },
     "inputWidgets": {},
     "nuid": "31c4a6f4-bdf3-4e14-98c2-f94332b8c651",
     "showTitle": false,
     "title": ""
    }
   },
   "outputs": [],
   "source": [
    "df = df_est1.toPandas()"
   ]
  },
  {
   "cell_type": "code",
   "execution_count": 0,
   "metadata": {
    "application/vnd.databricks.v1+cell": {
     "cellMetadata": {
      "byteLimit": 2048000,
      "rowLimit": 10000
     },
     "inputWidgets": {},
     "nuid": "0472c6e3-ccc6-472d-8675-f1d1257d5e23",
     "showTitle": false,
     "title": ""
    }
   },
   "outputs": [],
   "source": [
    "df[df['Fecha']=='2021-06-01']"
   ]
  },
  {
   "cell_type": "code",
   "execution_count": 0,
   "metadata": {
    "application/vnd.databricks.v1+cell": {
     "cellMetadata": {
      "byteLimit": 2048000,
      "rowLimit": 10000
     },
     "inputWidgets": {},
     "nuid": "ce6debac-cda0-4265-830e-4f28b11625f7",
     "showTitle": false,
     "title": ""
    }
   },
   "outputs": [],
   "source": [
    "# Agrupar por fecha y contar los registros y los '1' en la columna 'cta'\n",
    "df_agrupado = df.groupby('Fecha').agg(\n",
    "    total_registros=('Cta', 'count'),             # Contar todos los registros\n",
    "    total_cta=('Cta', lambda x: (x == 1).sum())  # Contar los 1 en 'cta'\n",
    ").reset_index()\n",
    "\n",
    "df_agrupado['%llenado'] = df_agrupado['total_cta']*100 / df_agrupado['total_registros']\n",
    "\n",
    "df_agrupado"
   ]
  },
  {
   "cell_type": "code",
   "execution_count": 0,
   "metadata": {
    "application/vnd.databricks.v1+cell": {
     "cellMetadata": {
      "byteLimit": 2048000,
      "rowLimit": 10000
     },
     "inputWidgets": {},
     "nuid": "0fd6a902-44cb-4f9b-81f5-5b53a077af5e",
     "showTitle": false,
     "title": ""
    }
   },
   "outputs": [],
   "source": [
    "# Unir df_agrupado a df\n",
    "df_unido = pd.merge(df, df_agrupado, on='Fecha', how='left')\n",
    "df_unido"
   ]
  }
 ],
 "metadata": {
  "application/vnd.databricks.v1+notebook": {
   "dashboards": [],
   "environmentMetadata": null,
   "language": "python",
   "notebookMetadata": {
    "pythonIndentUnit": 4
   },
   "notebookName": "dataprocessing",
   "widgets": {}
  },
  "language_info": {
   "name": "python"
  }
 },
 "nbformat": 4,
 "nbformat_minor": 0
}
